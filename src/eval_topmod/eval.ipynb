{
 "cells": [
  {
   "cell_type": "code",
   "execution_count": 2,
   "id": "eb4a2bc5",
   "metadata": {},
   "outputs": [],
   "source": [
    "import pandas as pd"
   ]
  },
  {
   "cell_type": "code",
   "execution_count": 12,
   "id": "07a05849",
   "metadata": {},
   "outputs": [],
   "source": [
    "code1 = pd.read_excel(\"../../data/eval_bsky_chen.xlsx\")\n",
    "code2 = pd.read_excel(\"../../data/eval_bsky_Li.xlsx\")\n",
    "code21 = pd.read_excel(\"../../data/eval_ts_Li.xlsx\", )\n",
    "code22 = pd.read_excel(\"../../data/eval_ts_chen.xlsx\")\n"
   ]
  },
  {
   "cell_type": "code",
   "execution_count": 18,
   "id": "9b851237",
   "metadata": {},
   "outputs": [
    {
     "data": {
      "text/plain": [
       "0       True\n",
       "1      False\n",
       "2      False\n",
       "3      False\n",
       "4      False\n",
       "       ...  \n",
       "219    False\n",
       "220    False\n",
       "221    False\n",
       "222    False\n",
       "223    False\n",
       "Name: Primary, Length: 224, dtype: bool"
      ]
     },
     "execution_count": 18,
     "metadata": {},
     "output_type": "execute_result"
    }
   ],
   "source": [
    "code1['Primary'] == code2['Primary']"
   ]
  },
  {
   "cell_type": "code",
   "execution_count": 9,
   "id": "67a67c1b",
   "metadata": {},
   "outputs": [],
   "source": [
    "code1 = code1[:-1]"
   ]
  },
  {
   "cell_type": "code",
   "execution_count": 13,
   "id": "5f4e07de",
   "metadata": {},
   "outputs": [
    {
     "data": {
      "text/plain": [
       "np.float64(0.5136343316942333)"
      ]
     },
     "execution_count": 13,
     "metadata": {},
     "output_type": "execute_result"
    }
   ],
   "source": [
    "from sklearn.metrics import cohen_kappa_score\n",
    "cohen_kappa_score(code1['Primary'].fillna(\"0\"), code2['Primary'].fillna(\"0\"))"
   ]
  },
  {
   "cell_type": "code",
   "execution_count": 8,
   "id": "52ac7ae5",
   "metadata": {},
   "outputs": [
    {
     "data": {
      "text/plain": [
       "np.float64(0.6654545454545455)"
      ]
     },
     "execution_count": 8,
     "metadata": {},
     "output_type": "execute_result"
    }
   ],
   "source": [
    "cohen_kappa_score(code1['Primary'].fillna(\"0\"), code1['topic_label'].fillna(\"0\"))"
   ]
  },
  {
   "cell_type": "code",
   "execution_count": 9,
   "id": "de2f5d40",
   "metadata": {},
   "outputs": [
    {
     "data": {
      "text/plain": [
       "np.float64(0.6411176621379133)"
      ]
     },
     "execution_count": 9,
     "metadata": {},
     "output_type": "execute_result"
    }
   ],
   "source": [
    "cohen_kappa_score(code2['Primary'].fillna(\"0\"), code2['topic_label'].fillna(\"0\"))"
   ]
  },
  {
   "cell_type": "code",
   "execution_count": 21,
   "id": "32731eff",
   "metadata": {},
   "outputs": [
    {
     "data": {
      "text/plain": [
       "155"
      ]
     },
     "execution_count": 21,
     "metadata": {},
     "output_type": "execute_result"
    }
   ],
   "source": [
    "sum(code1['Primary'] == code1['topic_label'])"
   ]
  },
  {
   "cell_type": "code",
   "execution_count": 22,
   "id": "5769151e",
   "metadata": {},
   "outputs": [
    {
     "data": {
      "text/plain": [
       "149"
      ]
     },
     "execution_count": 22,
     "metadata": {},
     "output_type": "execute_result"
    }
   ],
   "source": [
    "sum(code2['Primary'] == code2['topic_label'])"
   ]
  },
  {
   "cell_type": "code",
   "execution_count": 15,
   "id": "158e54cd",
   "metadata": {},
   "outputs": [
    {
     "data": {
      "text/plain": [
       "101"
      ]
     },
     "execution_count": 15,
     "metadata": {},
     "output_type": "execute_result"
    }
   ],
   "source": [
    "sum(code2['Primary'] == code1['Primary'])"
   ]
  },
  {
   "cell_type": "code",
   "execution_count": null,
   "id": "596506d2",
   "metadata": {},
   "outputs": [],
   "source": [
    "#krippendorff's alpha\n",
    "from krippendorff import alpha\n",
    "alpha(reliability_data = code1['Primary'], level_of_measurement='nominal')\n"
   ]
  },
  {
   "cell_type": "code",
   "execution_count": 14,
   "id": "b0c0c11f",
   "metadata": {},
   "outputs": [
    {
     "data": {
      "text/plain": [
       "np.float64(0.5041580733151487)"
      ]
     },
     "execution_count": 14,
     "metadata": {},
     "output_type": "execute_result"
    }
   ],
   "source": [
    "cohen_kappa_score(code21['Primary'].fillna(\"0\"), code22['Primary'].fillna(\"0\"))"
   ]
  },
  {
   "cell_type": "code",
   "execution_count": 15,
   "id": "8180f05c",
   "metadata": {},
   "outputs": [
    {
     "data": {
      "text/plain": [
       "np.float64(0.6003175168883346)"
      ]
     },
     "execution_count": 15,
     "metadata": {},
     "output_type": "execute_result"
    }
   ],
   "source": [
    "cohen_kappa_score(code21['Primary'].fillna(\"0\"), code21['topic_label'].fillna(\"0\"))\n"
   ]
  },
  {
   "cell_type": "code",
   "execution_count": 16,
   "id": "d9495903",
   "metadata": {},
   "outputs": [
    {
     "data": {
      "text/plain": [
       "np.float64(0.44770773638968486)"
      ]
     },
     "execution_count": 16,
     "metadata": {},
     "output_type": "execute_result"
    }
   ],
   "source": [
    "cohen_kappa_score(code22['Primary'].fillna(\"0\"), code22['topic_label'].fillna(\"0\"))"
   ]
  },
  {
   "cell_type": "code",
   "execution_count": null,
   "id": "b3e70a3b",
   "metadata": {},
   "outputs": [],
   "source": []
  }
 ],
 "metadata": {
  "kernelspec": {
   "display_name": "ai-lab",
   "language": "python",
   "name": "python3"
  },
  "language_info": {
   "codemirror_mode": {
    "name": "ipython",
    "version": 3
   },
   "file_extension": ".py",
   "mimetype": "text/x-python",
   "name": "python",
   "nbconvert_exporter": "python",
   "pygments_lexer": "ipython3",
   "version": "3.10.12"
  }
 },
 "nbformat": 4,
 "nbformat_minor": 5
}
