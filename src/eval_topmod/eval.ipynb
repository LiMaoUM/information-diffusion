{
 "cells": [
  {
   "cell_type": "code",
   "execution_count": 1,
   "id": "eb4a2bc5",
   "metadata": {},
   "outputs": [],
   "source": [
    "import pandas as pd"
   ]
  },
  {
   "cell_type": "code",
   "execution_count": 22,
   "id": "07a05849",
   "metadata": {},
   "outputs": [],
   "source": [
    "code1 = pd.read_excel(\"../../data/eval_bsky_chen.xlsx\")\n",
    "code2 = pd.read_excel(\"../../data/eval_bsky_Li.xlsx\")\n",
    "code21 = pd.read_excel(\"../../data/eval_ts_Li.xlsx\", )\n",
    "code22 = pd.read_excel(\"../../data/eval_ts_chen.xlsx\")\n"
   ]
  },
  {
   "cell_type": "code",
   "execution_count": 23,
   "id": "fc275bec",
   "metadata": {},
   "outputs": [],
   "source": [
    "code1.rename(columns={'Primary': \"code1\"}, inplace=True)\n",
    "code2.rename(columns={'Primary': \"code2\"}, inplace=True)"
   ]
  },
  {
   "cell_type": "code",
   "execution_count": 21,
   "id": "5db39ed2",
   "metadata": {},
   "outputs": [
    {
     "data": {
      "application/vnd.microsoft.datawrangler.viewer.v0+json": {
       "columns": [
        {
         "name": "index",
         "rawType": "int64",
         "type": "integer"
        },
        {
         "name": "index",
         "rawType": "int64",
         "type": "integer"
        },
        {
         "name": "max_depth",
         "rawType": "int64",
         "type": "integer"
        },
        {
         "name": "size",
         "rawType": "int64",
         "type": "integer"
        },
        {
         "name": "breadth",
         "rawType": "int64",
         "type": "integer"
        },
        {
         "name": "structural_virality",
         "rawType": "float64",
         "type": "float"
        },
        {
         "name": "reach",
         "rawType": "int64",
         "type": "integer"
        },
        {
         "name": "post",
         "rawType": "object",
         "type": "string"
        },
        {
         "name": "topic_label",
         "rawType": "object",
         "type": "string"
        },
        {
         "name": "Primary",
         "rawType": "object",
         "type": "unknown"
        },
        {
         "name": "Secondary",
         "rawType": "object",
         "type": "unknown"
        },
        {
         "name": "Column1",
         "rawType": "object",
         "type": "unknown"
        },
        {
         "name": "Column2",
         "rawType": "object",
         "type": "unknown"
        },
        {
         "name": "Primary",
         "rawType": "object",
         "type": "unknown"
        }
       ],
       "conversionMethod": "pd.DataFrame",
       "ref": "100e543c-c4a9-4d88-b48f-86d7e669294f",
       "rows": [
        [
         "0",
         "112549923538430656",
         "0",
         "1",
         "1",
         "0.0",
         "1",
         "Trump flies in the face of any storm!!!",
         "Biden vs. Trump Presidential Debates",
         "Biden vs. Trump Presidential Debates",
         null,
         null,
         null,
         "Biden vs. Trump Presidential Debates"
        ],
        [
         "1",
         "112548530715550560",
         "6",
         "1489",
         "1110",
         "1.357926221335992",
         "1489",
         "Amazing. Facebook, or the current White House—removed my Biden-Mart Calculator post, comparing the difference of food prices under Biden vs. Trump…",
         "Biden vs. Trump Presidential Debates",
         "Biden vs. Trump Presidential Debates",
         null,
         null,
         null,
         "Biden vs. Trump Presidential Debates"
        ],
        [
         "2",
         "112655755851442816",
         "14",
         "55",
         "24",
         "4.461538461538462",
         "55",
         "\"The American people are seeing...the illegal weaponization of our courts and radical District Attorneys like Alvin Bragg going after Joe Biden’s chief political opponent...President Donald J. Trump. It is a form of election interference. It is illegal. It is unconstitutional. We must save our country at the ballot box this November. It will be the American people that save the Constitution and save this country and fight back.\"",
         "Biden vs. Trump Presidential Debates",
         "Biden vs. Trump Presidential Debates",
         null,
         null,
         null,
         "Hunter Biden’s Legal Troubles (e.g., Gun Charges)"
        ],
        [
         "3",
         "112695538598984320",
         "0",
         "1",
         "1",
         "0.0",
         "1",
         "David Nino Rodriguez - EMBARRASSING BIDEN BOMBS! Democrats PANIC! Operation Replace Biden Unfolds? | 06-28-2024 | LIVE WITH NINO! | The Biden Regime, The DemocRAT Party and RINO Republicans are Communist, Socialist, Pedophiles, Nazi, Fascist, Marxist, Murderers, Dictators, Criminals and TRAITORS! ALL Should Be Charged With TREASON For Crimes Against Humanity! 🔥🔥🔥🔥 # DemocratsSuck # Bidenflation # DefundTheDOJ # BidenCrimeFamily # DemocratsHateAmerica # BidenBloodbath # BorderInvation # Election2020wasStolen # BidenNDemocratsAreRacist",
         "Biden vs. Trump Presidential Debates",
         "Biden vs. Trump Presidential Debates",
         null,
         null,
         null,
         "Pro-Trump and MAGA Advocacy"
        ],
        [
         "4",
         "112565725803718224",
         "1",
         "2",
         "1",
         "1.0",
         "2",
         "The Trump Trial, Biden incoherence, the 2024 election and more news and current events # news # podcast # newspodcast # politics # election # president # Trump # Biden",
         "Biden vs. Trump Presidential Debates",
         "Biden vs. Trump Presidential Debates",
         null,
         null,
         null,
         "Biden vs. Trump Presidential Debates"
        ],
        [
         "5",
         "112691594096119904",
         "30",
         "202",
         "15",
         "10.627227578147824",
         "202",
         "Trump is roasting Biden 🤣🤣🤣🤣🤣",
         "Biden vs. Trump Presidential Debates",
         "Biden vs. Trump Presidential Debates",
         null,
         null,
         null,
         "Pro-Trump and MAGA Advocacy"
        ],
        [
         "6",
         "112638283542396624",
         "3",
         "17",
         "13",
         "1.25",
         "17",
         "Just think, Joe Biden is the best Candidate that the Democrat Party has to offer……and they are going to have to replace him soon with someone else that is even worse just to make it to the election.",
         "Biden vs. Trump Presidential Debates",
         "Biden vs. Trump Presidential Debates",
         null,
         null,
         null,
         "Biden vs. Trump Presidential Debates"
        ],
        [
         "7",
         "112571644487459744",
         "0",
         "1",
         "1",
         "0.0",
         "1",
         "Pg 1 If in the debate, President Trump is asked to address Biden’s accusation that he is a threat to democracy, my suggested answer by President Trump would include: I didn’t spy on a political opponent, Obama/Biden did. I didn’t frame Donald Trump, Mike Flynn, Carter Page, George Papadopoulos, Obama/Biden weaponizing the FBI to abuse FISA did. I didn’t feed lies to Fake Media to smear a political opponent, Obama/Biden did. I didn’t use the CIA to engineer an Impeachment, Pelosi & Democrats did.",
         "Biden vs. Trump Presidential Debates",
         "Biden vs. Trump Presidential Debates",
         null,
         null,
         null,
         "Biden vs. Trump Presidential Debates"
        ],
        [
         "8",
         "112548312446916112",
         "2",
         "7",
         "5",
         "1.1428571428571428",
         "7",
         "DECLAS is coming… • Trump will Declassify 9/11 Files • Trump will Declassify the JFK files • Trump will Declassify the Epstein Files 🔴 MY THOUGHTS: Why didn’t it happen in his first term? That’s a great question… but honestly, if you think about it, how many things got exposed after Trump came into office? Weinstein, Weiner, Epstein, NXIVM, John of God, Diddy, Ndrangheta Mafia, Pedophile Busts… the list goes on and on. And we did get more revelations on 9/11 & JFK. You better believe more exposure is coming.. people just have to be ready. How do you eat an Elephant? 🐇🕳️🎚️🐸 This Clip",
         "Biden vs. Trump Presidential Debates",
         "Biden vs. Trump Presidential Debates",
         null,
         null,
         null,
         "Biden vs. Trump Presidential Debates"
        ],
        [
         "9",
         "112569241833368592",
         "4",
         "107",
         "89",
         "1.204724409448819",
         "107",
         "📊 NATIONAL POLL: Emerson College 🟥 Trump: 46% [=] 🟦 Biden: 45% [+1] With leans 🟥 Trump: 50% [=] 🟦 Biden: 50% [=] — 🟥 Trump: 44% [=] 🟦 Biden: 38% [-1] 🟨 RFK Jr: 8% [=] 🟨 West: 1% 🟩 Stein: 1% ⬜ Undecided: 9% — Generic Ballot 🟥 Republicans: 45% [=] 🟦 Democrats: 43% [-1] ⬜ Undecided: 12% — President Biden 🔵 Approve: 37% [=] 🟠 Disapprove: 53% [+1] [+/- change vs May] — • 538 Rank: #9 (2.9/3.0) | 1,000 RV • D37/R35/I28 | June 4-5 | MoE: ±3%",
         "Biden vs. Trump Presidential Debates",
         "Biden vs. Trump Presidential Debates",
         null,
         "Election",
         null,
         "Biden vs. Trump Presidential Debates"
        ],
        [
         "10",
         "112663953643914848",
         "0",
         "1",
         "1",
         "0.0",
         "1",
         "President Trump in Philadelphia: \"With your vote, Joe Biden's wave of bedlam and death and terror will begin to recede the moment I take the oath of office.\"",
         "Biden vs. Trump Presidential Debates",
         "Biden vs. Trump Presidential Debates",
         null,
         "Election",
         null,
         "Biden vs. Trump Presidential Debates"
        ],
        [
         "11",
         "112603107535304432",
         "0",
         "1",
         "1",
         "0.0",
         "1",
         "In answer to an ad that Pres. Trump is America's last hope. Whilst I agree with the general sentiment expressed, America's LAST HOPE is Her People but, even more importantly, the One whom Washington TRUSTED and RELIED ON to Create America in the First Place: God in Christ. But, I understand Mr. Trump is VITALLY needed now....I get that...but what then afterwards? Think, folks. Think. I wrote Mr. Trump a letter when he first got elected; in that letter (do not know if he got it) I told him to behave in emergency mode as if he only had one term in office. Apparently, I was closer in my prediction than first realized. He will have no easy road if re-elected. They, the Treason Loving Marxist Globalist Traitors, will give him (sorry about this but ...) hell all the time he is there. They already have charges on the playing field if he gets re-elected, for crying out loud! DO NOT THINK he can be put into office and, then, we all go on vacation. NO! We the People ARE the Power of the Gov.",
         "Biden vs. Trump Presidential Debates",
         "Pro-Trump and MAGA Advocacy",
         "Biden vs. Trump Presidential Debates",
         null,
         null,
         "Biden vs. Trump Presidential Debates"
        ],
        [
         "12",
         "112598449578629408",
         "6",
         "14",
         "3",
         "2.435897435897436",
         "14",
         "Good morning Here’s a clip of a guy filling out ballots during the 2020 election during a live FOX broadcast. Election workers aren’t supposed to be filling out ballots while they’re working at the voting centers right? Right! The 2020 election was rigged, stolen, cheated, manipulated, and Trump was the real winner without all of the Biden regime’s cheating.",
         "Biden vs. Trump Presidential Debates",
         "Biden vs. Trump Presidential Debates",
         null,
         null,
         null,
         "Biden vs. Trump Presidential Debates"
        ],
        [
         "13",
         "112589031857349232",
         "0",
         "1",
         "1",
         "0.0",
         "1",
         "STATUTE OF LIMITATIONS A cause of action contains elements that must be proven by ultimate evidence/fact. The statute of limitations does not begin to run until all the facts have been discovered. Hunter's laptop has just now been discovered when it was confirmed in court by the DOJ. The laptop, the letter signed by the 51 intelligence agency officials, and Brandon's reference to the letter and laptop in a presidential debate are the ultimate evidence/facts to prosecute Brandon for election interference. Yes, the same election interference that Trump was convicted of by Bragg in NY. More proof of a Trump & Co production!",
         "Biden vs. Trump Presidential Debates",
         "Biden vs. Trump Presidential Debates",
         null,
         "Election",
         null,
         "Biden vs. Trump Presidential Debates"
        ],
        [
         "14",
         "112632208158577584",
         "0",
         "1",
         "1",
         "0.0",
         "1",
         "@ benny Former NBA Player Royce White wrote “Free Trump” on his head for the Big 3 tournament.",
         "Biden vs. Trump Presidential Debates",
         "Trump’s Legal Convictions and Felony Charges",
         null,
         null,
         null,
         "Biden vs. Trump Presidential Debates"
        ],
        [
         "15",
         "112567175418982656",
         "0",
         "1",
         "1",
         "0.0",
         "1",
         "HOLY MOLY JOE!!! TRUMP 2024 🇺🇸🇺🇸🇺🇸",
         "Biden vs. Trump Presidential Debates",
         "Biden vs. Trump Presidential Debates",
         null,
         null,
         null,
         "Biden vs. Trump Presidential Debates"
        ],
        [
         "16",
         "112691663516308496",
         "0",
         "1",
         "1",
         "0.0",
         "1",
         "# debate # Trump wiping the floor with sleepy joe",
         "Biden vs. Trump Presidential Debates",
         "Biden vs. Trump Presidential Debates",
         null,
         null,
         null,
         "Biden vs. Trump Presidential Debates"
        ],
        [
         "17",
         "112580788597158496",
         "1",
         "7",
         "6",
         "1.0",
         "7",
         "Dems, media fool no one: White House is knee-deep in Trump prosecutions",
         "Biden vs. Trump Presidential Debates",
         "Trump’s Legal Convictions and Felony Charges",
         null,
         null,
         null,
         "Biden vs. Trump Presidential Debates"
        ],
        [
         "18",
         "112594890724630432",
         "0",
         "1",
         "1",
         "0.0",
         "1",
         "Trump is Attracting The young Voters",
         "Biden vs. Trump Presidential Debates",
         "Biden vs. Trump Presidential Debates",
         null,
         null,
         null,
         "Biden vs. Trump Presidential Debates"
        ],
        [
         "19",
         "112552477177704160",
         "0",
         "1",
         "1",
         "0.0",
         "1",
         "🔴 Eric Trump Reveals How Much His Father's Campaign Has Raised Since Conviction",
         "Biden vs. Trump Presidential Debates",
         "Biden vs. Trump Presidential Debates",
         null,
         "Election",
         null,
         "Biden vs. Trump Presidential Debates"
        ],
        [
         "20",
         "112563889472783072",
         "2",
         "104",
         "100",
         "1.028301886792453",
         "104",
         "Biden’s new order: close border when daily crossings surpass 2,500 over a weeklong period",
         "Biden’s Immigration Policies and Executive Orders",
         "Biden’s Immigration Policies and Executive Orders",
         null,
         null,
         null,
         "Biden’s Immigration Policies and Executive Orders"
        ],
        [
         "21",
         "112641997502771136",
         "2",
         "7",
         "4",
         "1.25",
         "7",
         "BREAKING NEWS: Trump Excoriates Biden's New Executive Immigration Action At Rally In Wisconsin",
         "Biden’s Immigration Policies and Executive Orders",
         "Biden’s Immigration Policies and Executive Orders",
         null,
         null,
         null,
         "Biden’s Immigration Policies and Executive Orders"
        ],
        [
         "22",
         "112560506465508080",
         "1",
         "8",
         "7",
         "1.0",
         "8",
         "Biden's plan would allow up 912K/year to cross illegally b/w ports of entry and makes many exceptions for even more to come in. The worst year under @ realDonaldTrump was 852K. The other 3 years were between 300K to 400K. More came into U.S. illegally under Biden last year -- 2.5 million -- than entire 4 years under Trump.",
         "Biden’s Immigration Policies and Executive Orders",
         "Biden’s Immigration Policies and Executive Orders",
         null,
         null,
         null,
         "Biden’s Immigration Policies and Executive Orders"
        ],
        [
         "23",
         "112561200094293728",
         "3",
         "144",
         "129",
         "1.1012658227848102",
         "144",
         "President Biden today signed an executive action on the border crisis after reversing Trump-era immigration policies at the start of his presidency. Tune in TONIGHT at 9pm ET for reaction from @ GregAbbott_TX !",
         "Biden’s Immigration Policies and Executive Orders",
         "Biden’s Immigration Policies and Executive Orders",
         null,
         null,
         null,
         "Biden’s Immigration Policies and Executive Orders"
        ],
        [
         "24",
         "112593088619831040",
         "1",
         "5",
         "4",
         "1.0",
         "5",
         "Biden spokesman explains why Trump is winning: \"What we know the American people want, they don't want chaos. They don't want chaos on the border and they do not chaos in their communities.\" You're right Kevin. The country is sick of the chaos caused by Biden's open border. - Trump War Room # PHPnews",
         "Biden’s Immigration Policies and Executive Orders",
         "Biden’s Immigration Policies and Executive Orders",
         "Biden vs. Trump Presidential Debates",
         null,
         null,
         "Biden’s Immigration Policies and Executive Orders"
        ],
        [
         "25",
         "112705921242392688",
         "0",
         "1",
         "1",
         "0.0",
         "1",
         "If this is not worthy of a ReTruth - NOTHING IS! 14 RINO UNIPARTY Republicans Help Democrats Fund Joe Biden’s Executive Amnesty for ILLEGAL ALIENS' amnesty. IMO UNBELIEVABLE? NO! These cretons are not Republicans - VOTE THEM OUT Their names and pitiful reputations should be scorned by WtP and written in the history books. ***AMERICANS FOR LEGAL IMMIGRATION PAC Over a Dozen House Republicans Help Democrats Fund Joe Biden’s Executive Amnesty for Illegal Aliens by JOHN BINDER 26 Jun 2024",
         "Biden’s Immigration Policies and Executive Orders",
         "Biden’s Immigration Policies and Executive Orders",
         null,
         null,
         null,
         "Biden’s Immigration Policies and Executive Orders"
        ],
        [
         "26",
         "112601293654800992",
         "0",
         "1",
         "1",
         "0.0",
         "1",
         "From Chicago CHICAGO CITIZENS ARE FED UP ABOUT ILLEGAL IMMIGRANTS AND WANT TRUMP BACK",
         "Biden’s Immigration Policies and Executive Orders",
         "Biden’s Immigration Policies and Executive Orders",
         null,
         null,
         null,
         "Biden’s Immigration Policies and Executive Orders"
        ],
        [
         "27",
         "112548337229930528",
         "2",
         "11",
         "9",
         "1.0909090909090908",
         "11",
         "Heartbreaking… 💔 Trump Commits to Finding the 85,000+ Missing Children, but believes Many of them are Now Dead • Just this year in 2024, there have been 74,000 (at least) of unaccompanied children that has come across the border • In 2023, 137,000 - 275,000 unaccompanied children have come across the boarder • The Joe Biden Administration has lost 85,000+ of these children. They don’t know where they are. —— Trump says there’s probably a lot more than 85k • Will you commit to finding these Children? —— “Many of them are dead… you know that right?… —— It’s a simple answer, Yes…. But many of them are dead….” 🙏 This Clip",
         "Biden’s Immigration Policies and Executive Orders",
         "Biden’s Immigration Policies and Executive Orders",
         null,
         null,
         null,
         "Biden’s Immigration Policies and Executive Orders"
        ],
        [
         "28",
         "112546926043398160",
         "0",
         "1",
         "1",
         "0.0",
         "1",
         "Trump Joins TikTok, Immediately Goes Mega Viral, Surpasses Biden Following [VIDEO] Over 4 million views in just over 6 hours",
         "Biden’s Immigration Policies and Executive Orders",
         "Pro-Trump and MAGA Advocacy",
         null,
         null,
         null,
         "Pro-Trump and MAGA Advocacy"
        ],
        [
         "29",
         "112536015006329072",
         "1",
         "2",
         "1",
         "1.0",
         "2",
         "Democrats are perverting the criminal justice system for political survival, how completely sickening. It won’t stop us from winning the election in November, WE STAND WITH TRUMP🇺🇸 @ realDonaldTrump @ MelaniaTrump @ EricTrump @ DonaldJTrumpJr",
         "Biden’s Immigration Policies and Executive Orders",
         "Biden’s Immigration Policies and Executive Orders",
         null,
         null,
         null,
         "Biden vs. Trump Presidential Debates"
        ],
        [
         "30",
         "112692140225064208",
         "5",
         "232",
         "153",
         "1.3993993993993994",
         "232",
         "Newsom, the likely replacement for Biden, gets manhandled over his actions during the pandemic when he shut down businesses, arrested paddleboarders, shut down beaches, and prevented outdoor dining. 🔥🔥🔥 \"Governor, why did you shut the beaches in California during Covid? So you didn't know anything, why did you shut the beaches? So you didn't let them go in the sunshine and get vitamin D and exercise so you shut the beaches. Ok. And you arrested a guy who was paddleboarding the bay. Any science behind that? Any science at all behind shutting down outdoor dining? Why did you shut down outdoor dining? Based on science? You shut down outdoor dining, you canceled businesses. That had nothing to do with science.\"",
         "Biden’s Immigration Policies and Executive Orders",
         null,
         null,
         null,
         "Election",
         "Pro-Trump and MAGA Advocacy"
        ],
        [
         "31",
         "112578245646496896",
         "16",
         "1619",
         "1003",
         "2.539507772020725",
         "1619",
         "The results of Crooked Joe Biden’s Executive Order at the Border…",
         "Biden’s Immigration Policies and Executive Orders",
         "Biden’s Immigration Policies and Executive Orders",
         null,
         null,
         null,
         "Biden’s Immigration Policies and Executive Orders"
        ],
        [
         "32",
         "112640489782054160",
         "3",
         "53",
         "40",
         "1.2424242424242424",
         "53",
         "President Biden announced more protections for illegal immigrants who are married to U.S. citizens. Approximately 500,000 spouses of U.S. citizens will be shielded from deportation under the program, according to the White House.",
         "Biden’s Immigration Policies and Executive Orders",
         "Biden’s Immigration Policies and Executive Orders",
         null,
         null,
         null,
         "Biden’s Immigration Policies and Executive Orders"
        ],
        [
         "33",
         "112562179520136960",
         "0",
         "1",
         "1",
         "0.0",
         "1",
         "You know- I'm fed up with these presidential election polls and polls about the economy, gas prices, the border & immigration, crime, ect, ect, ect ! You see the huge crowds at the Trump rally's, the huge response when Trump attends a UFC fight, the huge response when Trump attends a NASCAR race, when Trump stops to visit the first responders in New York City. Then Trumps verdict in New York City just last week, and 4 to 5 days later Trump's campaign has broken two never before records in donations with a total at 300 million dollars ! Maybe I'm wrong but I have yet to see anywhere close the crowds like Trump draws with a Biden event. Five months ago Biden told reporters he has done all he could do about the border situation, but today we see that was just another of many Biden lies to the American people with now a band aid executive order that will do nothing. Then I just heard on FoxNews that in a poll released today that Biden leads Trump in \"Honesty\" ! What a joke !",
         "Biden’s Immigration Policies and Executive Orders",
         "Biden’s Immigration Policies and Executive Orders",
         null,
         null,
         "Election",
         "Biden vs. Trump Presidential Debates"
        ],
        [
         "34",
         "112664658975498528",
         "1",
         "2",
         "1",
         "1.0",
         "2",
         "BREAKING: Trump vows to shut down Department of Education in second term",
         "Biden’s Immigration Policies and Executive Orders",
         "Biden vs. Trump Presidential Debates",
         null,
         null,
         "Election",
         null
        ],
        [
         "35",
         "112542108587845344",
         "1",
         "3",
         "2",
         "1.0",
         "3",
         "Imagine if 500 Trump supporters did this too… it would probably be a different story…",
         "Biden’s Immigration Policies and Executive Orders",
         null,
         null,
         null,
         "Other",
         null
        ],
        [
         "36",
         "112575636316811904",
         "2",
         "4",
         "2",
         "1.25",
         "4",
         "Trump on Biden’s smartphone app for asylum seekers “He’s talking about a smartphone. He has no idea what a smartphone is” 😂",
         "Biden’s Immigration Policies and Executive Orders",
         "Biden’s Immigration Policies and Executive Orders",
         null,
         null,
         null,
         "Pro-Trump and MAGA Advocacy"
        ],
        [
         "37",
         "112610097837400112",
         "3",
         "14",
         "11",
         "1.25",
         "14",
         "We are ready to get to work with President Trump \"to secure the border, unleash American energy independence, bring back peace through strength, stand up for election integrity, and defeat this illegal weaponization of the justice system.\" - Chair Stefanik",
         "Biden’s Immigration Policies and Executive Orders",
         "Biden’s Immigration Policies and Executive Orders",
         null,
         null,
         null,
         "Biden’s Immigration Policies and Executive Orders"
        ],
        [
         "38",
         "112549992900673056",
         "0",
         "1",
         "1",
         "0.0",
         "1",
         "President Trump is absolutely right. His persecution by the biden Administration's legal system is bigger than his issue alone. Even across the pond, our allies need him to be reelected. The entire world is counting on it!",
         "Biden’s Immigration Policies and Executive Orders",
         "Biden’s Immigration Policies and Executive Orders",
         null,
         null,
         null,
         "Pro-Trump and MAGA Advocacy"
        ],
        [
         "39",
         "112561490030325360",
         "0",
         "1",
         "1",
         "0.0",
         "1",
         "Dr. Phil Announces Big Plans with Trump, Discusses Potential 'Revenge' if Elected",
         "Biden’s Immigration Policies and Executive Orders",
         "Biden vs. Trump Presidential Debates",
         null,
         null,
         "Election",
         "Biden vs. Trump Presidential Debates"
        ],
        [
         "40",
         "112578193934039728",
         "1",
         "2",
         "1",
         "1.0",
         "2",
         "Incredible energy for President Trump in Arizona!",
         "Celebrations of Trump (e.g., Birthdays and Tributes)",
         "Celebrations of Trump (e.g., Birthdays and Tributes)",
         null,
         null,
         null,
         "Celebrations of Trump (e.g., Birthdays and Tributes)"
        ],
        [
         "41",
         "112547116387093888",
         "2",
         "69",
         "61",
         "1.0933333333333333",
         "69",
         "President Trump: \"Success will bring the country together!\"",
         "Celebrations of Trump (e.g., Birthdays and Tributes)",
         "Celebrations of Trump (e.g., Birthdays and Tributes)",
         null,
         null,
         null,
         "Celebrations of Trump (e.g., Birthdays and Tributes)"
        ],
        [
         "42",
         "112581873011959904",
         "0",
         "1",
         "1",
         "0.0",
         "1",
         "Without a doubt, this is the greatest endorsement for President Trump! 96 year old WW2 veteran, a reconnaissance paratrooper (The baddest of all bad asses!) calls Trump the greatest POTUS in all of his 96 years! The only way to repay him for his service is to reelect President Trump by a margin too big to rig.",
         "Celebrations of Trump (e.g., Birthdays and Tributes)",
         "Celebrations of Trump (e.g., Birthdays and Tributes)",
         null,
         null,
         null,
         "Celebrations of Trump (e.g., Birthdays and Tributes)"
        ],
        [
         "43",
         "112569660197593712",
         "0",
         "1",
         "1",
         "0.0",
         "1",
         "HMMMM – PRESIDENT TRUMP PUSHING EARLY VOTING FOR 2024",
         "Celebrations of Trump (e.g., Birthdays and Tributes)",
         null,
         null,
         null,
         "Election",
         "Celebrations of Trump (e.g., Birthdays and Tributes)"
        ],
        [
         "44",
         "112586666801808848",
         "0",
         "1",
         "1",
         "0.0",
         "1",
         "It’s happening EVERYWHERE… Yesterday 3,000 Trump supporters come out on Long Island to stand with the President… Long Island is TRUMP COUNTRY 🔗",
         "Celebrations of Trump (e.g., Birthdays and Tributes)",
         "Celebrations of Trump (e.g., Birthdays and Tributes)",
         null,
         null,
         null,
         "Celebrations of Trump (e.g., Birthdays and Tributes)"
        ],
        [
         "45",
         "112582172060363072",
         "0",
         "1",
         "1",
         "0.0",
         "1",
         "Gen Milley committed blatant treason against President Trump! After President Trump wins in November, Milley can face a courts martial and finally be held accountable!!! He’s a disgrace to the military!",
         "Celebrations of Trump (e.g., Birthdays and Tributes)",
         "Celebrations of Trump (e.g., Birthdays and Tributes)",
         null,
         null,
         null,
         "Celebrations of Trump (e.g., Birthdays and Tributes)"
        ],
        [
         "46",
         "112547054923332480",
         "0",
         "1",
         "1",
         "0.0",
         "1",
         "TrumpForce47.com President Trump launched this on Friday.",
         "Celebrations of Trump (e.g., Birthdays and Tributes)",
         "Celebrations of Trump (e.g., Birthdays and Tributes)",
         null,
         null,
         null,
         "Celebrations of Trump (e.g., Birthdays and Tributes)"
        ],
        [
         "47",
         "112614602133541680",
         "0",
         "1",
         "1",
         "0.0",
         "1",
         "Happy birthday President Trump 🥰",
         "Celebrations of Trump (e.g., Birthdays and Tributes)",
         "Celebrations of Trump (e.g., Birthdays and Tributes)",
         null,
         null,
         null,
         "Celebrations of Trump (e.g., Birthdays and Tributes)"
        ],
        [
         "48",
         "112545494617075232",
         "1",
         "6",
         "5",
         "1.0",
         "6",
         "Bronx > LNC > Tim Pool > TikTok President Trump is on the offensive, crossing divides, and going into unprecedented territories to accelerate the Great Awakening and ensure MAGA is too big to rig in Nov. Loving all these moves!",
         "Celebrations of Trump (e.g., Birthdays and Tributes)",
         "Celebrations of Trump (e.g., Birthdays and Tributes)",
         null,
         null,
         null,
         "Celebrations of Trump (e.g., Birthdays and Tributes)"
        ],
        [
         "49",
         "112561403470612720",
         "7",
         "95",
         "76",
         "1.5877862595419847",
         "95",
         "PRESIDENT TRUMP: Biden had 50 years of documents—he was never the smartest guy, according to just about everybody. But they basically said he's innocent because he's incompetent. In other words, he can run for President—but he can't stand trial.",
         "Celebrations of Trump (e.g., Birthdays and Tributes)",
         "Biden vs. Trump Presidential Debates",
         null,
         null,
         null,
         "Celebrations of Trump (e.g., Birthdays and Tributes)"
        ]
       ],
       "shape": {
        "columns": 13,
        "rows": 257
       }
      },
      "text/html": [
       "<div>\n",
       "<style scoped>\n",
       "    .dataframe tbody tr th:only-of-type {\n",
       "        vertical-align: middle;\n",
       "    }\n",
       "\n",
       "    .dataframe tbody tr th {\n",
       "        vertical-align: top;\n",
       "    }\n",
       "\n",
       "    .dataframe thead th {\n",
       "        text-align: right;\n",
       "    }\n",
       "</style>\n",
       "<table border=\"1\" class=\"dataframe\">\n",
       "  <thead>\n",
       "    <tr style=\"text-align: right;\">\n",
       "      <th></th>\n",
       "      <th>index</th>\n",
       "      <th>max_depth</th>\n",
       "      <th>size</th>\n",
       "      <th>breadth</th>\n",
       "      <th>structural_virality</th>\n",
       "      <th>reach</th>\n",
       "      <th>post</th>\n",
       "      <th>topic_label</th>\n",
       "      <th>Primary</th>\n",
       "      <th>Secondary</th>\n",
       "      <th>Column1</th>\n",
       "      <th>Column2</th>\n",
       "      <th>Primary</th>\n",
       "    </tr>\n",
       "  </thead>\n",
       "  <tbody>\n",
       "    <tr>\n",
       "      <th>0</th>\n",
       "      <td>112549923538430656</td>\n",
       "      <td>0</td>\n",
       "      <td>1</td>\n",
       "      <td>1</td>\n",
       "      <td>0.000000</td>\n",
       "      <td>1</td>\n",
       "      <td>Trump flies in the face of any storm!!!</td>\n",
       "      <td>Biden vs. Trump Presidential Debates</td>\n",
       "      <td>Biden vs. Trump Presidential Debates</td>\n",
       "      <td>NaN</td>\n",
       "      <td>NaN</td>\n",
       "      <td>NaN</td>\n",
       "      <td>Biden vs. Trump Presidential Debates</td>\n",
       "    </tr>\n",
       "    <tr>\n",
       "      <th>1</th>\n",
       "      <td>112548530715550560</td>\n",
       "      <td>6</td>\n",
       "      <td>1489</td>\n",
       "      <td>1110</td>\n",
       "      <td>1.357926</td>\n",
       "      <td>1489</td>\n",
       "      <td>Amazing. Facebook, or the current White House—...</td>\n",
       "      <td>Biden vs. Trump Presidential Debates</td>\n",
       "      <td>Biden vs. Trump Presidential Debates</td>\n",
       "      <td>NaN</td>\n",
       "      <td>NaN</td>\n",
       "      <td>NaN</td>\n",
       "      <td>Biden vs. Trump Presidential Debates</td>\n",
       "    </tr>\n",
       "    <tr>\n",
       "      <th>2</th>\n",
       "      <td>112655755851442816</td>\n",
       "      <td>14</td>\n",
       "      <td>55</td>\n",
       "      <td>24</td>\n",
       "      <td>4.461538</td>\n",
       "      <td>55</td>\n",
       "      <td>\"The American people are seeing...the illegal ...</td>\n",
       "      <td>Biden vs. Trump Presidential Debates</td>\n",
       "      <td>Biden vs. Trump Presidential Debates</td>\n",
       "      <td>NaN</td>\n",
       "      <td>NaN</td>\n",
       "      <td>NaN</td>\n",
       "      <td>Hunter Biden’s Legal Troubles (e.g., Gun Charges)</td>\n",
       "    </tr>\n",
       "    <tr>\n",
       "      <th>3</th>\n",
       "      <td>112695538598984320</td>\n",
       "      <td>0</td>\n",
       "      <td>1</td>\n",
       "      <td>1</td>\n",
       "      <td>0.000000</td>\n",
       "      <td>1</td>\n",
       "      <td>David Nino Rodriguez - EMBARRASSING BIDEN BOMB...</td>\n",
       "      <td>Biden vs. Trump Presidential Debates</td>\n",
       "      <td>Biden vs. Trump Presidential Debates</td>\n",
       "      <td>NaN</td>\n",
       "      <td>NaN</td>\n",
       "      <td>NaN</td>\n",
       "      <td>Pro-Trump and MAGA Advocacy</td>\n",
       "    </tr>\n",
       "    <tr>\n",
       "      <th>4</th>\n",
       "      <td>112565725803718224</td>\n",
       "      <td>1</td>\n",
       "      <td>2</td>\n",
       "      <td>1</td>\n",
       "      <td>1.000000</td>\n",
       "      <td>2</td>\n",
       "      <td>The Trump Trial, Biden incoherence, the 2024 e...</td>\n",
       "      <td>Biden vs. Trump Presidential Debates</td>\n",
       "      <td>Biden vs. Trump Presidential Debates</td>\n",
       "      <td>NaN</td>\n",
       "      <td>NaN</td>\n",
       "      <td>NaN</td>\n",
       "      <td>Biden vs. Trump Presidential Debates</td>\n",
       "    </tr>\n",
       "    <tr>\n",
       "      <th>...</th>\n",
       "      <td>...</td>\n",
       "      <td>...</td>\n",
       "      <td>...</td>\n",
       "      <td>...</td>\n",
       "      <td>...</td>\n",
       "      <td>...</td>\n",
       "      <td>...</td>\n",
       "      <td>...</td>\n",
       "      <td>...</td>\n",
       "      <td>...</td>\n",
       "      <td>...</td>\n",
       "      <td>...</td>\n",
       "      <td>...</td>\n",
       "    </tr>\n",
       "    <tr>\n",
       "      <th>252</th>\n",
       "      <td>112637635495954816</td>\n",
       "      <td>6</td>\n",
       "      <td>9</td>\n",
       "      <td>2</td>\n",
       "      <td>2.576923</td>\n",
       "      <td>9</td>\n",
       "      <td>@ DonaldTrumpNews2024e__ bot alert</td>\n",
       "      <td>Criticism of Trump and Support for Democratic ...</td>\n",
       "      <td>NaN</td>\n",
       "      <td>NaN</td>\n",
       "      <td>NaN</td>\n",
       "      <td>NaN</td>\n",
       "      <td>NaN</td>\n",
       "    </tr>\n",
       "    <tr>\n",
       "      <th>253</th>\n",
       "      <td>112542227385759408</td>\n",
       "      <td>9</td>\n",
       "      <td>36</td>\n",
       "      <td>8</td>\n",
       "      <td>3.736041</td>\n",
       "      <td>36</td>\n",
       "      <td>@ Trumpisanarcopath 🖕🫵🤡</td>\n",
       "      <td>Criticism of Trump and Support for Democratic ...</td>\n",
       "      <td>NaN</td>\n",
       "      <td>NaN</td>\n",
       "      <td>NaN</td>\n",
       "      <td>NaN</td>\n",
       "      <td>NaN</td>\n",
       "    </tr>\n",
       "    <tr>\n",
       "      <th>254</th>\n",
       "      <td>112593243243640128</td>\n",
       "      <td>4</td>\n",
       "      <td>9</td>\n",
       "      <td>3</td>\n",
       "      <td>2.130435</td>\n",
       "      <td>9</td>\n",
       "      <td># trumpquotes</td>\n",
       "      <td>Criticism of Trump and Support for Democratic ...</td>\n",
       "      <td>NaN</td>\n",
       "      <td>NaN</td>\n",
       "      <td>NaN</td>\n",
       "      <td>NaN</td>\n",
       "      <td>NaN</td>\n",
       "    </tr>\n",
       "    <tr>\n",
       "      <th>255</th>\n",
       "      <td>112593666634882992</td>\n",
       "      <td>28</td>\n",
       "      <td>93</td>\n",
       "      <td>7</td>\n",
       "      <td>9.836364</td>\n",
       "      <td>93</td>\n",
       "      <td>😂😂😂😂😂😂😂😂😂 # TheBidenSquat</td>\n",
       "      <td>Criticism of Trump and Support for Democratic ...</td>\n",
       "      <td>NaN</td>\n",
       "      <td>NaN</td>\n",
       "      <td>NaN</td>\n",
       "      <td>NaN</td>\n",
       "      <td>NaN</td>\n",
       "    </tr>\n",
       "    <tr>\n",
       "      <th>256</th>\n",
       "      <td>112688775364582016</td>\n",
       "      <td>0</td>\n",
       "      <td>1</td>\n",
       "      <td>1</td>\n",
       "      <td>0.000000</td>\n",
       "      <td>1</td>\n",
       "      <td># notoflyinginillegals # notoillegals # BidenF...</td>\n",
       "      <td>Criticism of Trump and Support for Democratic ...</td>\n",
       "      <td>NaN</td>\n",
       "      <td>NaN</td>\n",
       "      <td>NaN</td>\n",
       "      <td>NaN</td>\n",
       "      <td>NaN</td>\n",
       "    </tr>\n",
       "  </tbody>\n",
       "</table>\n",
       "<p>257 rows × 13 columns</p>\n",
       "</div>"
      ],
      "text/plain": [
       "                  index  max_depth  size  breadth  structural_virality  reach  \\\n",
       "0    112549923538430656          0     1        1             0.000000      1   \n",
       "1    112548530715550560          6  1489     1110             1.357926   1489   \n",
       "2    112655755851442816         14    55       24             4.461538     55   \n",
       "3    112695538598984320          0     1        1             0.000000      1   \n",
       "4    112565725803718224          1     2        1             1.000000      2   \n",
       "..                  ...        ...   ...      ...                  ...    ...   \n",
       "252  112637635495954816          6     9        2             2.576923      9   \n",
       "253  112542227385759408          9    36        8             3.736041     36   \n",
       "254  112593243243640128          4     9        3             2.130435      9   \n",
       "255  112593666634882992         28    93        7             9.836364     93   \n",
       "256  112688775364582016          0     1        1             0.000000      1   \n",
       "\n",
       "                                                  post  \\\n",
       "0              Trump flies in the face of any storm!!!   \n",
       "1    Amazing. Facebook, or the current White House—...   \n",
       "2    \"The American people are seeing...the illegal ...   \n",
       "3    David Nino Rodriguez - EMBARRASSING BIDEN BOMB...   \n",
       "4    The Trump Trial, Biden incoherence, the 2024 e...   \n",
       "..                                                 ...   \n",
       "252                 @ DonaldTrumpNews2024e__ bot alert   \n",
       "253                            @ Trumpisanarcopath 🖕🫵🤡   \n",
       "254                                      # trumpquotes   \n",
       "255                          😂😂😂😂😂😂😂😂😂 # TheBidenSquat   \n",
       "256  # notoflyinginillegals # notoillegals # BidenF...   \n",
       "\n",
       "                                           topic_label  \\\n",
       "0                 Biden vs. Trump Presidential Debates   \n",
       "1                 Biden vs. Trump Presidential Debates   \n",
       "2                 Biden vs. Trump Presidential Debates   \n",
       "3                 Biden vs. Trump Presidential Debates   \n",
       "4                 Biden vs. Trump Presidential Debates   \n",
       "..                                                 ...   \n",
       "252  Criticism of Trump and Support for Democratic ...   \n",
       "253  Criticism of Trump and Support for Democratic ...   \n",
       "254  Criticism of Trump and Support for Democratic ...   \n",
       "255  Criticism of Trump and Support for Democratic ...   \n",
       "256  Criticism of Trump and Support for Democratic ...   \n",
       "\n",
       "                                  Primary Secondary Column1 Column2  \\\n",
       "0    Biden vs. Trump Presidential Debates       NaN     NaN     NaN   \n",
       "1    Biden vs. Trump Presidential Debates       NaN     NaN     NaN   \n",
       "2    Biden vs. Trump Presidential Debates       NaN     NaN     NaN   \n",
       "3    Biden vs. Trump Presidential Debates       NaN     NaN     NaN   \n",
       "4    Biden vs. Trump Presidential Debates       NaN     NaN     NaN   \n",
       "..                                    ...       ...     ...     ...   \n",
       "252                                   NaN       NaN     NaN     NaN   \n",
       "253                                   NaN       NaN     NaN     NaN   \n",
       "254                                   NaN       NaN     NaN     NaN   \n",
       "255                                   NaN       NaN     NaN     NaN   \n",
       "256                                   NaN       NaN     NaN     NaN   \n",
       "\n",
       "                                               Primary  \n",
       "0                 Biden vs. Trump Presidential Debates  \n",
       "1                 Biden vs. Trump Presidential Debates  \n",
       "2    Hunter Biden’s Legal Troubles (e.g., Gun Charges)  \n",
       "3                          Pro-Trump and MAGA Advocacy  \n",
       "4                 Biden vs. Trump Presidential Debates  \n",
       "..                                                 ...  \n",
       "252                                                NaN  \n",
       "253                                                NaN  \n",
       "254                                                NaN  \n",
       "255                                                NaN  \n",
       "256                                                NaN  \n",
       "\n",
       "[257 rows x 13 columns]"
      ]
     },
     "execution_count": 21,
     "metadata": {},
     "output_type": "execute_result"
    }
   ],
   "source": [
    "pd.concat([code21,code22[['Primary']]],axis=1)"
   ]
  },
  {
   "cell_type": "code",
   "execution_count": 18,
   "id": "9b851237",
   "metadata": {},
   "outputs": [
    {
     "data": {
      "text/plain": [
       "0       True\n",
       "1      False\n",
       "2      False\n",
       "3      False\n",
       "4      False\n",
       "       ...  \n",
       "219    False\n",
       "220    False\n",
       "221    False\n",
       "222    False\n",
       "223    False\n",
       "Name: Primary, Length: 224, dtype: bool"
      ]
     },
     "execution_count": 18,
     "metadata": {},
     "output_type": "execute_result"
    }
   ],
   "source": [
    "code1['Primary'] == code2['Primary']"
   ]
  },
  {
   "cell_type": "code",
   "execution_count": 9,
   "id": "67a67c1b",
   "metadata": {},
   "outputs": [],
   "source": [
    "code1 = code1[:-1]"
   ]
  },
  {
   "cell_type": "code",
   "execution_count": 15,
   "id": "5f4e07de",
   "metadata": {},
   "outputs": [
    {
     "data": {
      "text/plain": [
       "np.float64(0.5270835110466604)"
      ]
     },
     "execution_count": 15,
     "metadata": {},
     "output_type": "execute_result"
    }
   ],
   "source": [
    "from sklearn.metrics import cohen_kappa_score\n",
    "cohen_kappa_score(code1['code1'].fillna(\"0\"), code2['code2'].fillna(\"0\"))"
   ]
  },
  {
   "cell_type": "code",
   "execution_count": 17,
   "id": "52ac7ae5",
   "metadata": {},
   "outputs": [
    {
     "data": {
      "text/plain": [
       "np.float64(0.6654545454545455)"
      ]
     },
     "execution_count": 17,
     "metadata": {},
     "output_type": "execute_result"
    }
   ],
   "source": [
    "cohen_kappa_score(code1['code1'].fillna(\"0\"), code1['topic_label'].fillna(\"0\"))"
   ]
  },
  {
   "cell_type": "code",
   "execution_count": 16,
   "id": "de2f5d40",
   "metadata": {},
   "outputs": [
    {
     "data": {
      "text/plain": [
       "np.float64(0.6650431513287192)"
      ]
     },
     "execution_count": 16,
     "metadata": {},
     "output_type": "execute_result"
    }
   ],
   "source": [
    "cohen_kappa_score(code2['code2'].fillna(\"0\"), code2['topic_label'].fillna(\"0\"))"
   ]
  },
  {
   "cell_type": "code",
   "execution_count": 21,
   "id": "32731eff",
   "metadata": {},
   "outputs": [
    {
     "data": {
      "text/plain": [
       "155"
      ]
     },
     "execution_count": 21,
     "metadata": {},
     "output_type": "execute_result"
    }
   ],
   "source": [
    "sum(code1['Primary'] == code1['topic_label'])"
   ]
  },
  {
   "cell_type": "code",
   "execution_count": 22,
   "id": "5769151e",
   "metadata": {},
   "outputs": [
    {
     "data": {
      "text/plain": [
       "149"
      ]
     },
     "execution_count": 22,
     "metadata": {},
     "output_type": "execute_result"
    }
   ],
   "source": [
    "sum(code2['Primary'] == code2['topic_label'])"
   ]
  },
  {
   "cell_type": "code",
   "execution_count": 15,
   "id": "158e54cd",
   "metadata": {},
   "outputs": [
    {
     "data": {
      "text/plain": [
       "101"
      ]
     },
     "execution_count": 15,
     "metadata": {},
     "output_type": "execute_result"
    }
   ],
   "source": [
    "sum(code2['Primary'] == code1['Primary'])"
   ]
  },
  {
   "cell_type": "code",
   "execution_count": null,
   "id": "596506d2",
   "metadata": {},
   "outputs": [],
   "source": [
    "#krippendorff's alpha\n",
    "from krippendorff import alpha\n",
    "alpha(reliability_data = code1['Primary'], level_of_measurement='nominal')\n"
   ]
  },
  {
   "cell_type": "code",
   "execution_count": 24,
   "id": "b0c0c11f",
   "metadata": {},
   "outputs": [
    {
     "data": {
      "text/plain": [
       "np.float64(0.534397285768401)"
      ]
     },
     "execution_count": 24,
     "metadata": {},
     "output_type": "execute_result"
    }
   ],
   "source": [
    "cohen_kappa_score(code21['Primary'].fillna(\"0\"), code22['Primary'].fillna(\"0\"))"
   ]
  },
  {
   "cell_type": "code",
   "execution_count": 25,
   "id": "8180f05c",
   "metadata": {},
   "outputs": [
    {
     "data": {
      "text/plain": [
       "np.float64(0.6003175168883346)"
      ]
     },
     "execution_count": 25,
     "metadata": {},
     "output_type": "execute_result"
    }
   ],
   "source": [
    "cohen_kappa_score(code21['Primary'].fillna(\"0\"), code21['topic_label'].fillna(\"0\"))\n"
   ]
  },
  {
   "cell_type": "code",
   "execution_count": 26,
   "id": "d9495903",
   "metadata": {},
   "outputs": [
    {
     "data": {
      "text/plain": [
       "np.float64(0.6129961535313855)"
      ]
     },
     "execution_count": 26,
     "metadata": {},
     "output_type": "execute_result"
    }
   ],
   "source": [
    "cohen_kappa_score(code22['Primary'].fillna(\"0\"), code22['topic_label'].fillna(\"0\"))"
   ]
  },
  {
   "cell_type": "code",
   "execution_count": null,
   "id": "b3e70a3b",
   "metadata": {},
   "outputs": [],
   "source": []
  }
 ],
 "metadata": {
  "kernelspec": {
   "display_name": "ai-lab",
   "language": "python",
   "name": "python3"
  },
  "language_info": {
   "codemirror_mode": {
    "name": "ipython",
    "version": 3
   },
   "file_extension": ".py",
   "mimetype": "text/x-python",
   "name": "python",
   "nbconvert_exporter": "python",
   "pygments_lexer": "ipython3",
   "version": "3.10.12"
  }
 },
 "nbformat": 4,
 "nbformat_minor": 5
}
